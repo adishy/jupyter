{
 "cells": [
  {
   "cell_type": "code",
   "execution_count": 1,
   "id": "0aed61dc-cfd3-4b3c-a0ce-09738624859d",
   "metadata": {},
   "outputs": [
    {
     "name": "stdout",
     "output_type": "stream",
     "text": [
      "/home/jovyan/work\n"
     ]
    }
   ],
   "source": [
    "!pwd"
   ]
  },
  {
   "cell_type": "code",
   "execution_count": 2,
   "id": "e293132f-4297-48cb-9846-e4f6e8bce61a",
   "metadata": {},
   "outputs": [
    {
     "name": "stdout",
     "output_type": "stream",
     "text": [
      "1\n",
      "1.2 hellothere\n",
      "1\n",
      "[1, 1.2, 'hellothere', True, 1, 'a']\n"
     ]
    }
   ],
   "source": [
    "#hello\n",
    "\n",
    "# literal: 1, \"hello\", 1.353, True -> are the box in memory\n",
    "# variables: store literals (or other variables)\n",
    "# variables point to a box in memory\n",
    "a = 1 # integer (int)\n",
    "b = 1.2 # floating (float)\n",
    "c = \"hellothere\" # string (str)\n",
    "d = True # boolean (bool)\n",
    "e = [a, b, c, d, 1, \"a\"] # list: stores a list / many items of different data types - a set of variables\n",
    "f = {} # dictionary: maps one variable to another\n",
    "\n",
    "print(a)\n",
    "print(b, c)\n",
    "print(1)\n",
    "print(e)\n",
    "\n",
    "# operators\n",
    "# Assignment: =\n",
    "# Arithmetic + - * // /\n",
    "# comparison: < > == <= >=\n",
    "# boolean: and or not\n",
    "\n"
   ]
  },
  {
   "cell_type": "code",
   "execution_count": 15,
   "id": "94fa1df1-40ca-4bfb-b01c-82ec27f55b46",
   "metadata": {},
   "outputs": [
    {
     "name": "stdout",
     "output_type": "stream",
     "text": [
      "2\n",
      "22.755555555555556\n"
     ]
    },
    {
     "name": "stdin",
     "output_type": "stream",
     "text": [
      "put in a number 5\n"
     ]
    },
    {
     "name": "stdout",
     "output_type": "stream",
     "text": [
      "5\n",
      "10\n"
     ]
    }
   ],
   "source": [
    "first_number = 20\n",
    "second_number = 2.2\n",
    "add = first_number + second_number + 5 / 9\n",
    "print(5 // 2)\n",
    "print(add)\n",
    "\n",
    "a = input(\"put in a number\")\n",
    "print(a)\n",
    "b = int(a) + 5\n",
    "print(b)"
   ]
  },
  {
   "cell_type": "code",
   "execution_count": 21,
   "id": "53a1f917-6be5-4ed4-9e5c-4c675ae75bb6",
   "metadata": {},
   "outputs": [
    {
     "name": "stdin",
     "output_type": "stream",
     "text": [
      "insert number 4\n"
     ]
    },
    {
     "name": "stdout",
     "output_type": "stream",
     "text": [
      "4\n"
     ]
    },
    {
     "name": "stdin",
     "output_type": "stream",
     "text": [
      "insert another number 5\n"
     ]
    },
    {
     "name": "stdout",
     "output_type": "stream",
     "text": [
      "5\n",
      "18\n"
     ]
    }
   ],
   "source": [
    "first = input(\"insert number\")\n",
    "print (first)\n",
    "second = input (\"insert another number\")\n",
    "print (second)\n",
    "m = (int(first) + int(second)) * 2\n",
    "print (m)\n"
   ]
  },
  {
   "cell_type": "markdown",
   "id": "8a95cf48-351a-4c6f-a32d-da4a00948546",
   "metadata": {},
   "source": [
    "## More conditionals\n",
    "##### Also, double click the Markdown blocks to see how these questions blocks were written (to see how code and documentation can live side-by-side in Jupyter notebooks)"
   ]
  },
  {
   "cell_type": "markdown",
   "id": "968b6e7c-072c-4dfc-9f69-1983f9afb54b",
   "metadata": {},
   "source": [
    "#### Question 1: Odd or Even\n",
    "You should write some code to determine if a given integer input from the user's keyboard is *odd or even*.\n",
    "It should print `This integer: <number> is even` if the number is even and `This integer: <number> is odd` if it is odd (You will have to check how to `print` multiple values together, as shown in the example below)\n",
    "\n",
    "Things that we need:\n",
    "* A way to easily determine if a number is odd or even\n",
    "* A way to act on the previous information\n",
    "\n",
    "Hint: Python provides an arithmetic operator `%` (i.e. an operator that takes two operands and performs arithmetic) called \"modulo\".\n",
    "* It returns **the remainder** of a given (integer) division.\n",
    "* You can exploit this operator for the above question"
   ]
  },
  {
   "cell_type": "code",
   "execution_count": 6,
   "id": "445e78f4-bf85-4dae-98d8-73561493ded4",
   "metadata": {},
   "outputs": [
    {
     "name": "stdout",
     "output_type": "stream",
     "text": [
      "10 % 5 = 0\n",
      "12 % 5 = 2\n"
     ]
    }
   ],
   "source": [
    "## Modulo examples:\n",
    "result = 10 % 5 # (Divides perfectly, therefore no remainder)\n",
    "# Notice how we can print many things separated by commas in the print function.\n",
    "# It adds spaces between each of the items provided to the function\n",
    "print(\"10 % 5 =\", result)\n",
    "\n",
    "print(\"12 % 5 =\", 12 % 5) # (Remainder of 2)"
   ]
  },
  {
   "cell_type": "code",
   "execution_count": null,
   "id": "e27f23fa-1fe2-4658-a06f-85984722648c",
   "metadata": {},
   "outputs": [],
   "source": [
    "# Question 1:\n",
    "\n"
   ]
  },
  {
   "cell_type": "markdown",
   "id": "eaf27a4a-d653-4aa8-b0fd-1186788b8eeb",
   "metadata": {},
   "source": [
    "#### Question 2: Comparing words\n",
    "You should write some code to determine what a car must do at a traffic light. \n",
    "* The car reads the output of your program to perform an action. Your program should print the appropriate action the car should take. \n",
    "Your program takes string keyboard `input` from the user about the state of the traffic light. You are guaranteed that your user will only ever input one of the following (exactly, with matching case too):\n",
    "* `red`\n",
    "* `yellow`\n",
    "* `green`\n",
    "\n",
    "The car should perform the following actions based on the input:\n",
    "| User Input | Action |\n",
    "|------------|--------|\n",
    "| `red`      | `Stop` |\n",
    "| `yellow`   | `Prepare to stop` |\n",
    "| `green`    | `Move` |\n",
    "\n",
    "You must `print` these actions exactly, based on the `input` from the user.\n",
    "\n",
    "---\n",
    "\n",
    "Things that we need:\n",
    "* A way to compare multiple values in a mutually exclusive way.\n",
    "* Compare user input to known string values\n",
    "\n",
    "We can write a conditional statement in Python in three slightly different ways:\n",
    "\n",
    "#### Variant 1: Mutually exclusive actions\n",
    "The following format is useful when you have exactly two different actions you want to take based on a given condition - one action if it is `True` and anoter if it is `False`:\n",
    "```\n",
    "condition_positive = True # a boolean value that we do not known\n",
    "if condition_positive:\n",
    "    print(\"Condition is True\")\n",
    "else:\n",
    "    print(\"Condition is False\")\n",
    "```\n",
    "\n",
    "#### Variant 2: Perform an action if a condition is `True` (but do nothing if it is `False`)\n",
    "An `if` conditional statement can stand alone, without the `else` block. This is useful when we want to perform one (or more) actions based on a condition but no action needs to be taken if the condition is False.\n",
    "```\n",
    "is_windy = False\n",
    "is_snowing = False\n",
    "is_sunny = True\n",
    "is_raining = True\n",
    "\n",
    "if is_raining:\n",
    "    print(\"Take umbrella\")\n",
    "\n",
    "if is_windy or is_snowing:\n",
    "    print(\"Take coat\")\n",
    "\n",
    "if is_sunny:\n",
    "    print(\"Take cap\")\n",
    "```\n",
    "\n",
    "In the above, what would happen if it `is_windy` AND `is_raining`? What if we don't want to take the umbrella?\n",
    "\n",
    "#### Variant 3: Perform a mutually exclusive action based on a condition that can have more than two values\n",
    "Sometimes a condition is complex and does not fit easily into the `True` or `False` model. For example, a user can input from a large list of known actions and we end up having to determine which of the many possibilities it is. In these cases, we can add \"branches\" to the conditional statement using the `elif` keyword (meaning `else if`), which also takes a conditional\n",
    "\n",
    "```\n",
    "what_time_is_it = input()\n",
    "\n",
    "# Known values:\n",
    "# \"breakfast_time\"\n",
    "# \"brunch_time\"\n",
    "# \"wunch_time\"\n",
    "# \"dinner_time\"\n",
    "\n",
    "if what_time_is_it == \"breakfast_time\":\n",
    "    print(\"Eat some eggs, raw\")\n",
    "elif what_time_is_it == \"brunch_time\":\n",
    "    print(\"You basic\")\n",
    "elif what_time_is_it == \"wunch_time\":\n",
    "    print(\"Wunch time is over\")\n",
    "elif what_time_is_it == \"dinner_time\":\n",
    "    print(\"Dal rice\")\n",
    "else:\n",
    "    print(\"Potato chips\")\n",
    "```"
   ]
  },
  {
   "cell_type": "code",
   "execution_count": null,
   "id": "328c701f-e4bf-4547-abb6-67df440262c4",
   "metadata": {},
   "outputs": [],
   "source": [
    "# Question 2:\n"
   ]
  }
 ],
 "metadata": {
  "kernelspec": {
   "display_name": "Python 3 (ipykernel)",
   "language": "python",
   "name": "python3"
  },
  "language_info": {
   "codemirror_mode": {
    "name": "ipython",
    "version": 3
   },
   "file_extension": ".py",
   "mimetype": "text/x-python",
   "name": "python",
   "nbconvert_exporter": "python",
   "pygments_lexer": "ipython3",
   "version": "3.11.9"
  }
 },
 "nbformat": 4,
 "nbformat_minor": 5
}
